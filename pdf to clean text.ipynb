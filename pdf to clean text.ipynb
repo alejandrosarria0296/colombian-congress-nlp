{
 "cells": [
  {
   "cell_type": "code",
   "execution_count": 2,
   "metadata": {},
   "outputs": [],
   "source": [
    "import io\n",
    "import pdfminer.pdfinterp\n",
    "import pdfminer.converter\n",
    "import pdfminer.layout\n",
    "import pdfminer.pdfpage\n",
    "import re\n",
    "import os\n",
    "\n",
    "corpus_folder = r\"C:\\Users\\asarr\\Documents\\MACSS\\Winter 2024\\Computational Content Analysis\\corpus\\Actas comisiones del senado 2023\""
   ]
  },
  {
   "cell_type": "code",
   "execution_count": 8,
   "metadata": {},
   "outputs": [],
   "source": [
    "def readPDF(pdfFile):\n",
    "    #Based on code from http://stackoverflow.com/a/20905381/4955164\n",
    "    #Using utf-8, if there are a bunch of random symbols try changing this\n",
    "    codec = 'utf-8'\n",
    "    rsrcmgr = pdfminer.pdfinterp.PDFResourceManager()\n",
    "    retstr = io.StringIO()\n",
    "    layoutParams = pdfminer.layout.LAParams()\n",
    "    device = pdfminer.converter.TextConverter(rsrcmgr, retstr, laparams = layoutParams)\n",
    "    #We need a device and an interpreter\n",
    "    interpreter = pdfminer.pdfinterp.PDFPageInterpreter(rsrcmgr, device)\n",
    "    password = ''\n",
    "    maxpages = 0\n",
    "    caching = True\n",
    "    pagenos=set()\n",
    "    for page in pdfminer.pdfpage.PDFPage.get_pages(pdfFile, pagenos, maxpages=maxpages, password=password,caching=caching, check_extractable=True):\n",
    "        interpreter.process_page(page)\n",
    "    device.close()\n",
    "    returnedString = retstr.getvalue()\n",
    "    retstr.close()\n",
    "    return returnedString\n",
    "\n",
    "def import_raw_pdf (file_path):\n",
    "    \"\"\"\n",
    "    takes a file path and returns a string of the text in the pdf\n",
    "\n",
    "    Input must be a natural string (r'path\\to\\file.pdf')\n",
    "    \"\"\"\n",
    "    with open(file_path, 'rb') as file:\n",
    "        f = file.read()\n",
    "    return readPDF(io.BytesIO(f))\n"
   ]
  },
  {
   "cell_type": "code",
   "execution_count": 11,
   "metadata": {},
   "outputs": [],
   "source": [
    "\n",
    "for file in os.listdir(corpus_folder):\n",
    "    if file.endswith(\".pdf\"):\n",
    "        raw_text = import_raw_pdf(os.path.join(corpus_folder, file))\n",
    "        raw_text = raw_text.replace('\\n', ' ')\n",
    "        raw_text = re.sub(r'\\s+', ' ', raw_text)\n",
    "        with open(os.path.join(corpus_folder, file[:-4] + '.txt'), 'w', encoding='utf-8') as f:\n",
    "            f.write(raw_text)"
   ]
  }
 ],
 "metadata": {
  "kernelspec": {
   "display_name": "base",
   "language": "python",
   "name": "python3"
  },
  "language_info": {
   "codemirror_mode": {
    "name": "ipython",
    "version": 3
   },
   "file_extension": ".py",
   "mimetype": "text/x-python",
   "name": "python",
   "nbconvert_exporter": "python",
   "pygments_lexer": "ipython3",
   "version": "3.11.5"
  }
 },
 "nbformat": 4,
 "nbformat_minor": 2
}
